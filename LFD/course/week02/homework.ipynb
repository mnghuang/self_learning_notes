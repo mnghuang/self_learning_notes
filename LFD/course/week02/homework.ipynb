{
 "cells": [
  {
   "cell_type": "code",
   "execution_count": 4,
   "metadata": {
    "collapsed": true
   },
   "outputs": [],
   "source": [
    "import random\n",
    "import numpy as np\n",
    "from matplotlib import pyplot as plt\n",
    "%matplotlib inline"
   ]
  },
  {
   "cell_type": "markdown",
   "metadata": {},
   "source": [
    "#### Coin Flips"
   ]
  },
  {
   "cell_type": "code",
   "execution_count": 5,
   "metadata": {
    "collapsed": false
   },
   "outputs": [],
   "source": [
    "def flip_head():\n",
    "    if random.random() > 0.5:\n",
    "        return True\n",
    "    return False\n",
    "\n",
    "def flip_n_times(n = 10):\n",
    "    return [flip_head() for i in xrange(n)]\n",
    "\n",
    "def flip_m_coins_n_times(m=1000, n=10):\n",
    "    return [sum(flip_n_times(n)) for i in xrange(m)]\n",
    "\n",
    "def calc_vmin_v_vrand():\n",
    "    coins = flip_m_coins_n_times()\n",
    "    v1 = 1.* coins[0] / 10\n",
    "    vrand = 1.* coins[random.randint(0, 999)] / 10\n",
    "    vmin = 1. * min(coins) / 10\n",
    "    return v1, vrand, vmin\n",
    "\n",
    "def get_x_v(x=100000):\n",
    "    v1s, vrands, vmins = [], [], []\n",
    "    for i in xrange(x):\n",
    "        v1, vrand, vmin = calc_vmin_v_vrand()\n",
    "        v1s.append(v1)\n",
    "        vrands.append(vrand)\n",
    "        vmins.append(vmin)\n",
    "    return v1s, vrands, vmins"
   ]
  },
  {
   "cell_type": "code",
   "execution_count": 6,
   "metadata": {
    "collapsed": false
   },
   "outputs": [],
   "source": [
    "v1s, vrands, vmins = get_x_v()"
   ]
  },
  {
   "cell_type": "markdown",
   "metadata": {},
   "source": [
    "#### #1 = b"
   ]
  },
  {
   "cell_type": "code",
   "execution_count": 7,
   "metadata": {
    "collapsed": false
   },
   "outputs": [
    {
     "data": {
      "text/plain": [
       "0.037322000000000001"
      ]
     },
     "execution_count": 7,
     "metadata": {},
     "output_type": "execute_result"
    }
   ],
   "source": [
    "np.mean(vmins)"
   ]
  },
  {
   "cell_type": "code",
   "execution_count": 8,
   "metadata": {
    "collapsed": false
   },
   "outputs": [
    {
     "data": {
      "image/png": "[encoded data removed]",
      "text/plain": [
       "<matplotlib.figure.Figure at 0x1063a8390>"
      ]
     },
     "metadata": {},
     "output_type": "display_data"
    }
   ],
   "source": [
    "_ = plt.hist(v1s, bins=50)"
   ]
  },
  {
   "cell_type": "code",
   "execution_count": 9,
   "metadata": {
    "collapsed": false
   },
   "outputs": [
    {
     "data": {
      "image/png": "[encoded data removed]",
      "text/plain": [
       "<matplotlib.figure.Figure at 0x1066ff410>"
      ]
     },
     "metadata": {},
     "output_type": "display_data"
    }
   ],
   "source": [
    "_ = plt.hist(vrands, bins=50)"
   ]
  },
  {
   "cell_type": "code",
   "execution_count": 10,
   "metadata": {
    "collapsed": false
   },
   "outputs": [
    {
     "data": {
      "image/png": "[encoded data removed]",
      "text/plain": [
       "<matplotlib.figure.Figure at 0x1073e74d0>"
      ]
     },
     "metadata": {},
     "output_type": "display_data"
    }
   ],
   "source": [
    "_ = plt.hist(vmins, bins=50)"
   ]
  },
  {
   "cell_type": "markdown",
   "metadata": {},
   "source": [
    "#### #2 = d"
   ]
  },
  {
   "cell_type": "markdown",
   "metadata": {
    "collapsed": true
   },
   "source": [
    "#### Linear Regression for Classification"
   ]
  },
  {
   "cell_type": "code",
   "execution_count": 11,
   "metadata": {
    "collapsed": true
   },
   "outputs": [],
   "source": [
    "def get_slope_intercept(v):\n",
    "    slope = v[1]/(-1*v[2])\n",
    "    intercept = v[0]/(-1*v[2])\n",
    "    return slope, intercept\n",
    "\n",
    "def create_seperation_vector():\n",
    "    xA, yA, xB, yB = [random.uniform(-1, 1) for i in xrange(4)]\n",
    "    v = np.array([xB*yA - xA*yB, yB - yA, xA - xB])\n",
    "    return v\n",
    "\n",
    "def generate_x(n):\n",
    "    X = np.zeros((n, 3))\n",
    "    for i in xrange(n):\n",
    "        x, y = [random.uniform(-1, 1) for j in xrange(2)]\n",
    "        X[i] = np.array([1, x, y])\n",
    "    return X\n",
    "\n",
    "def create_labels(v, X):\n",
    "    func = lambda x: np.sign(v.dot(x))\n",
    "    return np.apply_along_axis(func, 1, X)\n",
    "\n",
    "def plot_X_with_label(X, y, show=False):\n",
    "    X_pos = X[y > 0]\n",
    "    X_neg = X[y < 0]\n",
    "    plt.scatter(X_pos[:, 1], X_pos[:, 2], color='r')\n",
    "    plt.scatter(X_neg[:, 1], X_neg[:, 2], color='b')\n",
    "    \n",
    "    if show:\n",
    "        plt.show()\n",
    "        \n",
    "def plot_seperation_plane(m, b, linestyle='-', color='g'):\n",
    "    x = np.linspace(-1, 1)\n",
    "    plt.plot(x, m*x + b, linestyle=linestyle, color=color)"
   ]
  },
  {
   "cell_type": "code",
   "execution_count": 67,
   "metadata": {
    "collapsed": true
   },
   "outputs": [],
   "source": [
    "def generate_data(n=100):\n",
    "    v = create_seperation_vector()\n",
    "    m, b = get_slope_intercept(v)\n",
    "    D = generate_x(n)\n",
    "    labels = create_labels(v, D)\n",
    "    return v, D, labels"
   ]
  },
  {
   "cell_type": "code",
   "execution_count": 68,
   "metadata": {
    "collapsed": false
   },
   "outputs": [],
   "source": [
    "v, X, y = generate_data()"
   ]
  },
  {
   "cell_type": "code",
   "execution_count": 178,
   "metadata": {
    "collapsed": true
   },
   "outputs": [],
   "source": [
    "class LinearRegression(object):\n",
    "\n",
    "    def __init__(self, X, y):\n",
    "        self.X = X\n",
    "        self.y = y\n",
    "        self.w = np.linalg.inv(X.T.dot(X)).dot(X.T).dot(y)\n",
    "\n",
    "    def predict(self, X):\n",
    "        out = np.sign(X.dot(self.w.reshape(self.w.shape[0], 1)))\n",
    "        return out.reshape(out.shape[0])\n",
    "    \n",
    "    def get_insample_error(self):\n",
    "        y_in = self.predict(self.X)\n",
    "        return 1. * sum(self.y != y_in) / self.y.shape[0]\n",
    "    \n",
    "    def get_outsample_error(self, X, y):\n",
    "        y_out = self.predict(X)\n",
    "        return 1. * sum(y != y_out) / y.shape[0]"
   ]
  },
  {
   "cell_type": "markdown",
   "metadata": {},
   "source": [
    "Testing Linear Regression class"
   ]
  },
  {
   "cell_type": "code",
   "execution_count": 179,
   "metadata": {
    "collapsed": false
   },
   "outputs": [],
   "source": [
    "cls = LinearRegression(X, y)"
   ]
  },
  {
   "cell_type": "code",
   "execution_count": 180,
   "metadata": {
    "collapsed": false
   },
   "outputs": [],
   "source": [
    "y_in = cls.predict(X)"
   ]
  },
  {
   "cell_type": "code",
   "execution_count": 181,
   "metadata": {
    "collapsed": false
   },
   "outputs": [
    {
     "data": {
      "text/plain": [
       "0.02"
      ]
     },
     "execution_count": 181,
     "metadata": {},
     "output_type": "execute_result"
    }
   ],
   "source": [
    "cls.get_insample_error()"
   ]
  },
  {
   "cell_type": "code",
   "execution_count": 182,
   "metadata": {
    "collapsed": true
   },
   "outputs": [],
   "source": [
    "def run_1000_samples():\n",
    "    gs, linregs, e_in = [], [], []\n",
    "    for i in xrange(1000):\n",
    "        v, X, y = generate_data()\n",
    "        gs.append(v)\n",
    "        cls = LinearRegression(X, y)\n",
    "        e_in.append(cls.get_insample_error())\n",
    "        linregs.append(cls)\n",
    "    return gs, linregs, sum(e_in) / 1000."
   ]
  },
  {
   "cell_type": "code",
   "execution_count": 183,
   "metadata": {
    "collapsed": false
   },
   "outputs": [],
   "source": [
    "gs, linregs, avg_e_in = run_1000_samples()"
   ]
  },
  {
   "cell_type": "markdown",
   "metadata": {},
   "source": [
    "#### #5 = c"
   ]
  },
  {
   "cell_type": "code",
   "execution_count": 184,
   "metadata": {
    "collapsed": false
   },
   "outputs": [
    {
     "data": {
      "text/plain": [
       "0.03880000000000005"
      ]
     },
     "execution_count": 184,
     "metadata": {},
     "output_type": "execute_result"
    }
   ],
   "source": [
    "avg_e_in"
   ]
  },
  {
   "cell_type": "code",
   "execution_count": 185,
   "metadata": {
    "collapsed": true
   },
   "outputs": [],
   "source": [
    "def get_mean_eout(gs, linregs):\n",
    "    e_outs = []\n",
    "    for i in xrange(len(gs)):\n",
    "        X = generate_x(1000)\n",
    "        y = create_labels(gs[i], X)\n",
    "        e_out = linregs[i].get_outsample_error(X, y)\n",
    "        e_outs.append(e_out)\n",
    "    return 1. * sum(e_outs) / len(gs)"
   ]
  },
  {
   "cell_type": "markdown",
   "metadata": {},
   "source": [
    "#### #6 = c"
   ]
  },
  {
   "cell_type": "code",
   "execution_count": 186,
   "metadata": {
    "collapsed": false
   },
   "outputs": [
    {
     "data": {
      "text/plain": [
       "0.04806700000000005"
      ]
     },
     "execution_count": 186,
     "metadata": {},
     "output_type": "execute_result"
    }
   ],
   "source": [
    "get_mean_eout(gs, linregs)"
   ]
  },
  {
   "cell_type": "code",
   "execution_count": 187,
   "metadata": {
    "collapsed": false
   },
   "outputs": [],
   "source": [
    "class LinearPerceptron(object):\n",
    "    \n",
    "    def __init__(self, X, y, w=None):\n",
    "        self.X = X\n",
    "        self.y = y\n",
    "        if w is None:\n",
    "            self._initialize_weights()\n",
    "        else:\n",
    "            self.w = w\n",
    "        \n",
    "    def _initialize_weights(self):\n",
    "        self.w = np.zeros(self.X.shape[1])\n",
    "    \n",
    "    def _update_weights(self):\n",
    "        cur_y = self.predict(self.X)\n",
    "        errs = self.y != cur_y\n",
    "        if sum(errs) > 1:\n",
    "            i = np.random.choice(np.where(errs)[0])\n",
    "            self.w += self.y[i]*self.X[i]\n",
    "\n",
    "    def learn(self):\n",
    "        current_w = np.ones(self.w.shape[0])\n",
    "        n_iter = 0\n",
    "        #return self.W, current_W\n",
    "        while (self.w != current_w).all() or n_iter == 0:\n",
    "            n_iter += 1\n",
    "            current_w = self.w.copy()\n",
    "            self._update_weights()\n",
    "        return n_iter\n",
    "    \n",
    "    def predict(self, X):\n",
    "        out = np.sign(X.dot(self.w.reshape(self.w.shape[0], 1)))\n",
    "        return out.reshape(out.shape[0])"
   ]
  },
  {
   "cell_type": "code",
   "execution_count": 188,
   "metadata": {
    "collapsed": false
   },
   "outputs": [
    {
     "data": {
      "text/plain": [
       "array([ 0.6180101 ,  1.0349754 , -1.08314473])"
      ]
     },
     "execution_count": 188,
     "metadata": {},
     "output_type": "execute_result"
    }
   ],
   "source": [
    "gs[0]"
   ]
  },
  {
   "cell_type": "code",
   "execution_count": 189,
   "metadata": {
    "collapsed": false
   },
   "outputs": [],
   "source": [
    "def test_PLA(gs):\n",
    "    iters = []\n",
    "    for i, g in enumerate(gs):\n",
    "        X = generate_x(10)\n",
    "        y = create_labels(g, X)\n",
    "        pla = LinearPerceptron(X, y, g)\n",
    "        iters.append(pla.learn())\n",
    "    return 1. * sum(iters) / len(gs)"
   ]
  },
  {
   "cell_type": "markdown",
   "metadata": {},
   "source": [
    "#### #7 = a"
   ]
  },
  {
   "cell_type": "code",
   "execution_count": 190,
   "metadata": {
    "collapsed": false
   },
   "outputs": [
    {
     "data": {
      "text/plain": [
       "1.0"
      ]
     },
     "execution_count": 190,
     "metadata": {},
     "output_type": "execute_result"
    }
   ],
   "source": [
    "test_PLA(gs)"
   ]
  },
  {
   "cell_type": "code",
   "execution_count": 215,
   "metadata": {
    "collapsed": true
   },
   "outputs": [],
   "source": [
    "def create_labels2(D):\n",
    "    labels = []\n",
    "    for d in D:\n",
    "        labels.append(np.sign(d[1]**2 + d[2]**2 - 0.6))\n",
    "    return np.array(labels)"
   ]
  },
  {
   "cell_type": "code",
   "execution_count": 216,
   "metadata": {
    "collapsed": true
   },
   "outputs": [],
   "source": [
    "def generate_data_w_noise(n=1000, noise_ratio=.1):\n",
    "    D = generate_x(n)\n",
    "    labels = create_labels2(D)\n",
    "    noise = np.random.choice(range(len(labels)),\n",
    "                             int(noise_ratio * len(labels)))\n",
    "    for i in noise:\n",
    "        labels[i] *= -1\n",
    "    return v, D, labels"
   ]
  },
  {
   "cell_type": "code",
   "execution_count": 217,
   "metadata": {
    "collapsed": true
   },
   "outputs": [],
   "source": [
    "def run_1000_samples_w_noise():\n",
    "    gs, linregs, e_in = [], [], []\n",
    "    for i in xrange(1000):\n",
    "        v, X, y = generate_data_w_noise()\n",
    "        gs.append(v)\n",
    "        cls = LinearRegression(X, y)\n",
    "        e_in.append(cls.get_insample_error())\n",
    "        linregs.append(cls)\n",
    "    return gs, linregs, sum(e_in) / 1000."
   ]
  },
  {
   "cell_type": "code",
   "execution_count": 218,
   "metadata": {
    "collapsed": true
   },
   "outputs": [],
   "source": [
    "gs2, linregs2, avg_e_in2 = run_1000_samples_w_noise()"
   ]
  },
  {
   "cell_type": "markdown",
   "metadata": {},
   "source": [
    "#### #8 = d"
   ]
  },
  {
   "cell_type": "code",
   "execution_count": 219,
   "metadata": {
    "collapsed": false
   },
   "outputs": [
    {
     "data": {
      "text/plain": [
       "0.5053169999999997"
      ]
     },
     "execution_count": 219,
     "metadata": {},
     "output_type": "execute_result"
    }
   ],
   "source": [
    "avg_e_in2"
   ]
  },
  {
   "cell_type": "code",
   "execution_count": 220,
   "metadata": {
    "collapsed": true
   },
   "outputs": [],
   "source": [
    "def transform_X(X):\n",
    "    new_X = np.zeros((X.shape[0], 6))\n",
    "    for i, x in enumerate(X):\n",
    "        x0, x1, x2 = x\n",
    "        x3 = x1 * x2\n",
    "        x4 = x1**2\n",
    "        x5 = x2**2\n",
    "        new_X[i] = [x0, x1, x2, x3, x4, x5]\n",
    "    return new_X"
   ]
  },
  {
   "cell_type": "code",
   "execution_count": 253,
   "metadata": {
    "collapsed": true
   },
   "outputs": [],
   "source": [
    "def find_non_linear_w():\n",
    "    ws = np.zeros((1000, 6))\n",
    "    for i in xrange(1000):\n",
    "        _, X, y = generate_data_w_noise()\n",
    "        new_X = transform_X(X)\n",
    "        cls = LinearRegression(new_X, y)\n",
    "        ws[i] = cls.w\n",
    "    return np.mean(ws, axis=0)"
   ]
  },
  {
   "cell_type": "markdown",
   "metadata": {},
   "source": [
    "#### #9 = a"
   ]
  },
  {
   "cell_type": "code",
   "execution_count": 258,
   "metadata": {
    "collapsed": false
   },
   "outputs": [],
   "source": [
    "nlw = find_non_linear_w()"
   ]
  },
  {
   "cell_type": "code",
   "execution_count": 259,
   "metadata": {
    "collapsed": false
   },
   "outputs": [
    {
     "data": {
      "text/plain": [
       "array([ -1.01455137e+00,  -6.98339658e-04,   1.68308323e-03,\n",
       "        -3.34055996e-03,   1.59407125e+00,   1.59225120e+00])"
      ]
     },
     "execution_count": 259,
     "metadata": {},
     "output_type": "execute_result"
    }
   ],
   "source": [
    "nlw"
   ]
  },
  {
   "cell_type": "code",
   "execution_count": 260,
   "metadata": {
    "collapsed": true
   },
   "outputs": [],
   "source": [
    "def something(w):\n",
    "    e_outs = []\n",
    "    for i in xrange(1000):\n",
    "        _, X, y = generate_data_w_noise()\n",
    "        new_X = transform_X(X)\n",
    "        out = np.sign(new_X.dot(w.reshape(w.shape[0], 1)))\n",
    "        out = out.reshape(out.shape[0])\n",
    "        e_outs.append(1. * sum(y != out) / y.shape[0])\n",
    "    return sum(e_outs) / 1000."
   ]
  },
  {
   "cell_type": "markdown",
   "metadata": {},
   "source": [
    "#### #10 = b"
   ]
  },
  {
   "cell_type": "code",
   "execution_count": 261,
   "metadata": {
    "collapsed": false
   },
   "outputs": [
    {
     "data": {
      "text/plain": [
       "0.1143029999999996"
      ]
     },
     "execution_count": 261,
     "metadata": {},
     "output_type": "execute_result"
    }
   ],
   "source": [
    "something(nlw)"
   ]
  },
  {
   "cell_type": "code",
   "execution_count": null,
   "metadata": {
    "collapsed": true
   },
   "outputs": [],
   "source": []
  }
 ],
 "metadata": {
  "kernelspec": {
   "display_name": "Python 2",
   "language": "python",
   "name": "python2"
  },
  "language_info": {
   "codemirror_mode": {
    "name": "ipython",
    "version": 2
   },
   "file_extension": ".py",
   "mimetype": "text/x-python",
   "name": "python",
   "nbconvert_exporter": "python",
   "pygments_lexer": "ipython2",
   "version": "2.7.10"
  }
 },
 "nbformat": 4,
 "nbformat_minor": 0
}
