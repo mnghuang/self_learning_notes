{
 "cells": [
  {
   "cell_type": "code",
   "execution_count": 55,
   "metadata": {
    "collapsed": true
   },
   "outputs": [],
   "source": [
    "import random\n",
    "from matplotlib import pyplot as plt\n",
    "import numpy as np\n",
    "%matplotlib inline"
   ]
  },
  {
   "cell_type": "markdown",
   "metadata": {},
   "source": [
    "# Hoeffdin"
   ]
  },
  {
   "cell_type": "code",
   "execution_count": 34,
   "metadata": {
    "collapsed": true
   },
   "outputs": [],
   "source": [
    "class FairCoin(object):\n",
    "    \n",
    "    def __init__(self):\n",
    "        self.n_heads = 0\n",
    "        self.n_flips = 0\n",
    "        \n",
    "    def flip(self):\n",
    "        return random.random() > 0.5\n",
    "    \n",
    "    def flip_n_ind_times(self, n):\n",
    "        for i in xrange(n):\n",
    "            self.n_heads += self.flip()\n",
    "            self.n_flips += 1\n",
    "            self._update_mu()\n",
    "            \n",
    "    def _update_mu(self):\n",
    "        self.mu = 1.* self.n_heads / self.n_flips"
   ]
  },
  {
   "cell_type": "code",
   "execution_count": 35,
   "metadata": {
    "collapsed": false
   },
   "outputs": [],
   "source": [
    "def run_experiment(n=1000):\n",
    "    coins = dict()\n",
    "    cur_mu = 1\n",
    "    cur_i = 0\n",
    "    for i in xrange(1, n + 1):\n",
    "        coin = FairCoin()\n",
    "        coin.flip_n_ind_times(10)\n",
    "        if coin.mu < cur_mu:\n",
    "            cur_mu = coin.mu\n",
    "            cur_i = i\n",
    "        coins[i] = coin\n",
    "    \n",
    "    rand_i = random.randint(1, 1000)\n",
    "    return coins[1].mu, coins[rand_i].mu, cur_mu"
   ]
  },
  {
   "cell_type": "code",
   "execution_count": 85,
   "metadata": {
    "collapsed": false
   },
   "outputs": [],
   "source": [
    "def run_n_experiments(n=10000):\n",
    "    v1_lst = np.zeros(n)\n",
    "    v_rand_lst = np.zeros(n)\n",
    "    v_min_lst = np.zeros(n)\n",
    "    for i in xrange(n):\n",
    "        v1, v_rand, v_min = run_experiment(1000)\n",
    "        v1_lst[i] = v1\n",
    "        v_rand_lst[i] = v_rand\n",
    "        v_min_lst[i] = v_min\n",
    "    return v1_lst, v_rand_lst, v_min_lst"
   ]
  },
  {
   "cell_type": "code",
   "execution_count": 86,
   "metadata": {
    "collapsed": false
   },
   "outputs": [],
   "source": [
    "v1, v_rand, v_min = run_n_experiments()"
   ]
  },
  {
   "cell_type": "code",
   "execution_count": 87,
   "metadata": {
    "collapsed": false
   },
   "outputs": [],
   "source": [
    "def plot_dist(lst, label=None):\n",
    "    plt.hist(lst)\n",
    "    plt.xlim(0, 1)\n",
    "    if label:\n",
    "        plt.title(label)\n",
    "    \n",
    "    plt.show()"
   ]
  },
  {
   "cell_type": "code",
   "execution_count": 88,
   "metadata": {
    "collapsed": false
   },
   "outputs": [
    {
     "data": {
      "image/png": "[encoded data removed]",
      "text/plain": [
       "<matplotlib.figure.Figure at 0x1069fa2d0>"
      ]
     },
     "metadata": {},
     "output_type": "display_data"
    },
    {
     "data": {
      "image/png": "[encoded data removed]",
      "text/plain": [
       "<matplotlib.figure.Figure at 0x1069faad0>"
      ]
     },
     "metadata": {},
     "output_type": "display_data"
    },
    {
     "data": {
      "image/png": "[encoded data removed]",
      "text/plain": [
       "<matplotlib.figure.Figure at 0x106eb03d0>"
      ]
     },
     "metadata": {},
     "output_type": "display_data"
    }
   ],
   "source": [
    "plot_dist(v1, 'V1')\n",
    "plot_dist(v_rand, 'V Rand')\n",
    "plot_dist(v_min, 'V Min')"
   ]
  },
  {
   "cell_type": "code",
   "execution_count": 105,
   "metadata": {
    "collapsed": true
   },
   "outputs": [],
   "source": [
    "def calc_p_error(v_array, epsilon):\n",
    "    return 1. * sum(abs(v_array - 0.5) > epsilon) / len(v_array)\n",
    "\n",
    "def calc_Hoeffdin(v_array, epsilon):\n",
    "    return 2 * np.exp(-2*(epsilon**2)*10)\n",
    "\n",
    "def plot_Hoeffdin(v_array, epsilon_lst):\n",
    "    Hoeffdins = []\n",
    "    for e in epsilon_lst:\n",
    "        Hoeffdins.append(calc_Hoeffdin(v_array, e))\n",
    "    plt.plot(epsilon_lst, Hoeffdins, label='Hoeffdin', alpha=0.5)\n",
    "\n",
    "def plot_p(v_array, epsilon_lst, label='P Error'):\n",
    "    p_errors = []\n",
    "    for e in epsilon_lst:\n",
    "        p_errors.append(calc_p_error(v_array, e))\n",
    "    plt.plot(epsilon_lst, p_errors, label=label, alpha=0.5)"
   ]
  },
  {
   "cell_type": "code",
   "execution_count": 106,
   "metadata": {
    "collapsed": false
   },
   "outputs": [
    {
     "data": {
      "text/plain": [
       "0.0021"
      ]
     },
     "execution_count": 106,
     "metadata": {},
     "output_type": "execute_result"
    }
   ],
   "source": [
    "plot_p_error(v1, 0.4)"
   ]
  },
  {
   "cell_type": "code",
   "execution_count": 107,
   "metadata": {
    "collapsed": false
   },
   "outputs": [
    {
     "data": {
      "text/plain": [
       "0.89865792823444302"
      ]
     },
     "execution_count": 107,
     "metadata": {},
     "output_type": "execute_result"
    }
   ],
   "source": [
    "calc_Hoeffdin(v1, 0.2)"
   ]
  },
  {
   "cell_type": "code",
   "execution_count": 110,
   "metadata": {
    "collapsed": false
   },
   "outputs": [
    {
     "data": {
      "text/plain": [
       "<matplotlib.legend.Legend at 0x1083bdf90>"
      ]
     },
     "execution_count": 110,
     "metadata": {},
     "output_type": "execute_result"
    },
    {
     "data": {
      "image/png": "[encoded data removed]",
      "text/plain": [
       "<matplotlib.figure.Figure at 0x1085da3d0>"
      ]
     },
     "metadata": {},
     "output_type": "display_data"
    }
   ],
   "source": [
    "plot_Hoeffdin(v1, np.linspace(0, 1, 100))\n",
    "plot_p(v1, np.linspace(0, 1, 100), label='V1')\n",
    "plot_p(v_rand, np.linspace(0, 1, 100), label='V Rand')\n",
    "plot_p(v_min, np.linspace(0, 1, 100), label='V Min')\n",
    "plt.legend()"
   ]
  },
  {
   "cell_type": "markdown",
   "metadata": {},
   "source": [
    "### V1 and V Rand obeys the Hoeffdin boundary, since the sampled V is reasonably random.  V Min does not obey the boundary since it is always the sample with the lowest of ratio of heads.  As a result, v is always far from u, increasing the likelihood of unacceptable error."
   ]
  },
  {
   "cell_type": "markdown",
   "metadata": {},
   "source": [
    "### If we look at V1, V Rand, and V Min as a different hypothesis trying to estimate the target function, we can see that there are hypothesis that does not obey the Hoeffdin boundary.  However, if we just constantly try new hypothesis in a set of all possible hypothesis, we will eventually find a hypothesis that holds despite already violating the boundary."
   ]
  },
  {
   "cell_type": "code",
   "execution_count": null,
   "metadata": {
    "collapsed": true
   },
   "outputs": [],
   "source": []
  }
 ],
 "metadata": {
  "kernelspec": {
   "display_name": "Python 2",
   "language": "python",
   "name": "python2"
  },
  "language_info": {
   "codemirror_mode": {
    "name": "ipython",
    "version": 2
   },
   "file_extension": ".py",
   "mimetype": "text/x-python",
   "name": "python",
   "nbconvert_exporter": "python",
   "pygments_lexer": "ipython2",
   "version": "2.7.10"
  }
 },
 "nbformat": 4,
 "nbformat_minor": 0
}
