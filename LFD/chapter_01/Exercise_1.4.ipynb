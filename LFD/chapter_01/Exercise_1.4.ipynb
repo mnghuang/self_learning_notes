{
 "cells": [
  {
   "cell_type": "code",
   "execution_count": 1,
   "metadata": {
    "collapsed": true
   },
   "outputs": [],
   "source": [
    "import numpy as np\n",
    "import random\n",
    "from matplotlib import pyplot as plt\n",
    "%matplotlib inline"
   ]
  },
  {
   "cell_type": "markdown",
   "metadata": {},
   "source": [
    "Lets derive the vector form of the line seperating negative and positives first:\n",
    "\n",
    "$$ y = mx + b $$\n",
    "\n",
    "$$ m = \\frac{y_b - y_a}{x_b - x_a} $$\n",
    "\n",
    "$$ y = x(\\frac{y_b - y_a}{x_b - x_a}) + b $$\n",
    "\n",
    "$$ (y - b)(x_b - x_a) = x(y_b - y_a) $$\n",
    "\n",
    "$$ y(x_b - x_a) - b(x_b - x_a) = x(y_b - y_a) $$\n",
    "\n",
    "$$ 0 = b(x_b - x_a) + x(y_b - y_a) - y(x_b - x_a) $$\n",
    "\n",
    "$$ 0 = b(x_b - x_a) + x(y_b - y_a) + y(x_a - x_b) $$\n",
    "\n",
    "$$ 0 = A + Bx + Cy $$\n",
    "\n",
    "$$ 0 = \\begin{bmatrix} A \\\\ B \\\\ C \\end{bmatrix} \\cdot \\begin{bmatrix} 1 & x & y \\end{bmatrix} $$\n",
    "\n",
    "$$ b = y - x(\\frac{y_b - y_a}{x_b - x_a}) $$\n",
    "\n",
    "$$ b = y_a - x_a(\\frac{y_b - y_a}{x_b - x_a}) $$\n",
    "\n",
    "$$ b = y_a(\\frac{x_b - x_a}{x_b - x_a}) - x_a(\\frac{y_b - y_a}{x_b - x_a}) $$\n",
    "\n",
    "$$ b = \\frac{y_ax_b - y_ax_a - y_bx_a + y_ax_a}{x_b - x_a} $$\n",
    "\n",
    "$$ b = \\frac{y_ax_b - y_bx_a}{x_b - x_a} $$\n",
    "\n",
    "$$ A = b(x_b - x_a) $$\n",
    "\n",
    "$$ A = y_ax_b - x_ay_b$$\n",
    "\n",
    "$$ 0 = \\begin{bmatrix} y_ax_b - x_ay_b \\\\ y_b - y_a \\\\ x_a - x_b \\end{bmatrix} \\cdot \\begin{bmatrix} 1 & x & y \\end{bmatrix} $$\n",
    "\n",
    "We can now just randomize two points to initiate a seperation plane, and take the dot product with some point [1 x y] vector to determine the sign of the point relative to the plane.\n",
    "\n",
    "Note that:\n",
    "\n",
    "$$ -1(x_a - x_b) = x_b - x_a $$\n",
    "\n",
    "Thus:\n",
    "\n",
    "$$ b = \\frac{y_ax_b - y_bx_a}{-1(x_a - x_b)} $$\n",
    "\n",
    "$$ m = \\frac{y_b - y_a}{-1(x_a - x_b)} $$\n",
    "\n",
    "This will be useful later."
   ]
  },
  {
   "cell_type": "code",
   "execution_count": 2,
   "metadata": {
    "collapsed": true
   },
   "outputs": [],
   "source": [
    "def get_slope_intercept(v):\n",
    "    slope = v[1]/(-1*v[2])\n",
    "    intercept = v[0]/(-1*v[2])\n",
    "    return slope, intercept\n",
    "\n",
    "def create_seperation_vector():\n",
    "    xA, yA, xB, yB = [random.uniform(-1, 1) for i in xrange(4)]\n",
    "    v = np.array([xB*yA - xA*yB, yB - yA, xA - xB])\n",
    "    return v\n",
    "\n",
    "def generate_x(n):\n",
    "    X = np.zeros((n, 3))\n",
    "    for i in xrange(n):\n",
    "        x, y = [random.uniform(-1, 1) for j in xrange(2)]\n",
    "        X[i] = np.array([1, x, y])\n",
    "    return X\n",
    "\n",
    "def create_labels(v, X):\n",
    "    func = lambda x: np.sign(v.dot(x))\n",
    "    return np.apply_along_axis(func, 1, X)\n",
    "\n",
    "def plot_X_with_label(X, y, show=False):\n",
    "    X_pos = X[y > 0]\n",
    "    X_neg = X[y < 0]\n",
    "    plt.scatter(X_pos[:, 1], X_pos[:, 2], color='r')\n",
    "    plt.scatter(X_neg[:, 1], X_neg[:, 2], color='b')\n",
    "    \n",
    "    if show:\n",
    "        plt.show()\n",
    "        \n",
    "def plot_seperation_plane(m, b, linestyle='-', color='g'):\n",
    "    x = np.linspace(-1, 1)\n",
    "    plt.plot(x, m*x + b, linestyle=linestyle, color=color)"
   ]
  },
  {
   "cell_type": "code",
   "execution_count": 3,
   "metadata": {
    "collapsed": false
   },
   "outputs": [],
   "source": [
    "v = create_seperation_vector()"
   ]
  },
  {
   "cell_type": "code",
   "execution_count": 4,
   "metadata": {
    "collapsed": true
   },
   "outputs": [],
   "source": [
    "m, b = get_slope_intercept(v)"
   ]
  },
  {
   "cell_type": "code",
   "execution_count": 5,
   "metadata": {
    "collapsed": false
   },
   "outputs": [],
   "source": [
    "D = generate_x(20)"
   ]
  },
  {
   "cell_type": "code",
   "execution_count": 6,
   "metadata": {
    "collapsed": false
   },
   "outputs": [],
   "source": [
    "labels = create_labels(v, D)"
   ]
  },
  {
   "cell_type": "markdown",
   "metadata": {},
   "source": [
    "As we can see below, we now have some hyperplane with some linearly seperable points.  We can now play with linear perceptrons."
   ]
  },
  {
   "cell_type": "code",
   "execution_count": 7,
   "metadata": {
    "collapsed": false
   },
   "outputs": [
    {
     "data": {
      "image/png": "[encoded data removed]",
      "text/plain": [
       "<matplotlib.figure.Figure at 0xa427b38>"
      ]
     },
     "metadata": {},
     "output_type": "display_data"
    }
   ],
   "source": [
    "plot_X_with_label(D, labels)\n",
    "plot_seperation_plane(m, b)"
   ]
  },
  {
   "cell_type": "markdown",
   "metadata": {},
   "source": [
    "The Linear Perceptron finds the seperation plane through the hypothesis:\n",
    "\n",
    "$$ h(x) = sign(w^{t}x) $$\n",
    "\n",
    "for some data:\n",
    "\n",
    "$$ X_n = x_1, x_2, ... x_n \\textrm{ where each x is a vector of some dimension} $$\n",
    "\n",
    "and some label of -1 and 1 for each x.\n",
    "\n",
    "w is some weight vector that we will initialize which takes the inner product with each vector x, and we hope to achieve the following conditions.\n",
    "\n",
    "$$ \\textrm{If } \\sum{w_i}{x_i} > \\textrm{ some threshold then declare +1} $$\n",
    "\n",
    "$$ \\textrm{If } \\sum{w_i}{x_i} < \\textrm{ some threshold then declare -1} $$\n",
    "\n",
    "Thus, we only care about the sign of the dot product.\n",
    "\n",
    "The hypothesis updates by checking if for any x, y:\n",
    "\n",
    "$$ sign(w^{t}x) \\neq y $$ \n",
    "\n",
    "If so, we update w by:\n",
    "\n",
    "$$ w = w + y_ix_i $$"
   ]
  },
  {
   "cell_type": "code",
   "execution_count": 38,
   "metadata": {
    "collapsed": true
   },
   "outputs": [],
   "source": [
    "class LinearPerceptron(object):\n",
    "    \n",
    "    def __init__(self, X, y):\n",
    "        self.X = X\n",
    "        self.y = y\n",
    "        self._initialize_weights()\n",
    "        \n",
    "    def _initialize_weights(self):\n",
    "        self.w = np.zeros(self.X.shape[1])\n",
    "    \n",
    "    def _update_weights(self):\n",
    "        for i, x in enumerate(self.X):\n",
    "            if np.sign(self.w.dot(x)) != self.y[i]:\n",
    "                self.w += self.y[i]*x\n",
    "                break\n",
    "\n",
    "    def learn(self):\n",
    "        current_w = np.ones(self.w.shape[0])\n",
    "        n_iter = 0\n",
    "        #return self.W, current_W\n",
    "        while (self.w != current_w).all() or n_iter == 0:\n",
    "            current_w = self.w.copy()\n",
    "            self._update_weights()\n",
    "            if (self.w != current_w).all():\n",
    "                n_iter += 1\n",
    "        print 'LPA learned in %d iterations' % n_iter\n",
    "        return n_iter\n",
    "    \n",
    "    def predict(self, X):\n",
    "        pred = np.zeros((X.shape[0], 1))\n",
    "        for i, x in enumerate(X):\n",
    "            pred[i] = np.sign(self.w.dot(x))\n",
    "        return pred"
   ]
  },
  {
   "cell_type": "code",
   "execution_count": 9,
   "metadata": {
    "collapsed": false
   },
   "outputs": [],
   "source": [
    "lpa = LinearPerceptron(D, labels)"
   ]
  },
  {
   "cell_type": "code",
   "execution_count": 10,
   "metadata": {
    "collapsed": false
   },
   "outputs": [
    {
     "name": "stdout",
     "output_type": "stream",
     "text": [
      "LPA learned in 2 iterations\n"
     ]
    }
   ],
   "source": [
    "lpa.learn()"
   ]
  },
  {
   "cell_type": "code",
   "execution_count": 29,
   "metadata": {
    "collapsed": true
   },
   "outputs": [],
   "source": [
    "def LPA_wrapper(n=10):\n",
    "    v = create_seperation_vector()\n",
    "    X = generate_x(n)\n",
    "    m, b = get_slope_intercept(v)\n",
    "    labels = create_labels(v, X)\n",
    "    lpa = LinearPerceptron(X, labels)\n",
    "    n_iter = lpa.learn()\n",
    "    m_w, b_w = get_slope_intercept(lpa.w)\n",
    "    plot_X_with_label(X, labels)\n",
    "    plot_seperation_plane(m, b)\n",
    "    plot_seperation_plane(m_w, b_w, linestyle='--')\n",
    "    plt.show()"
   ]
  },
  {
   "cell_type": "code",
   "execution_count": 30,
   "metadata": {
    "collapsed": false
   },
   "outputs": [
    {
     "name": "stdout",
     "output_type": "stream",
     "text": [
      "LPA learned in 48 iterations\n"
     ]
    },
    {
     "data": {
      "image/png": "[encoded data removed]",
      "text/plain": [
       "<matplotlib.figure.Figure at 0xa7a0cf8>"
      ]
     },
     "metadata": {},
     "output_type": "display_data"
    }
   ],
   "source": [
    "LPA_wrapper()"
   ]
  },
  {
   "cell_type": "code",
   "execution_count": 33,
   "metadata": {
    "collapsed": false
   },
   "outputs": [
    {
     "name": "stdout",
     "output_type": "stream",
     "text": [
      "LPA learned in 22 iterations\n"
     ]
    },
    {
     "data": {
      "image/png": "[encoded data removed]",
      "text/plain": [
       "<matplotlib.figure.Figure at 0xb750e80>"
      ]
     },
     "metadata": {},
     "output_type": "display_data"
    }
   ],
   "source": [
    "LPA_wrapper(100)"
   ]
  },
  {
   "cell_type": "code",
   "execution_count": 46,
   "metadata": {
    "collapsed": false
   },
   "outputs": [],
   "source": [
    "def LPA_avg_iter(n=10, k=50):\n",
    "    n_iters = []\n",
    "    for i in xrange(k):\n",
    "        v = create_seperation_vector()\n",
    "        X = generate_x(n)\n",
    "        m, b = get_slope_intercept(v)\n",
    "        labels = create_labels(v, X)\n",
    "        lpa = LinearPerceptron(X, labels)\n",
    "        n_iter = lpa.learn()\n",
    "        n_iters.append(n_iter)\n",
    "    return np.mean(n_iters)"
   ]
  },
  {
   "cell_type": "code",
   "execution_count": 47,
   "metadata": {
    "collapsed": false
   },
   "outputs": [
    {
     "name": "stdout",
     "output_type": "stream",
     "text": [
      "LPA learned in 18 iterations\n",
      "LPA learned in 2 iterations\n",
      "LPA learned in 1 iterations\n",
      "LPA learned in 2 iterations\n",
      "LPA learned in 25 iterations\n",
      "LPA learned in 1 iterations\n",
      "LPA learned in 2 iterations\n",
      "LPA learned in 10 iterations\n",
      "LPA learned in 9 iterations\n",
      "LPA learned in 1 iterations\n",
      "LPA learned in 27 iterations\n",
      "LPA learned in 4 iterations\n",
      "LPA learned in 2 iterations\n",
      "LPA learned in 18 iterations\n",
      "LPA learned in 5 iterations\n",
      "LPA learned in 3 iterations\n",
      "LPA learned in 9 iterations\n",
      "LPA learned in 5 iterations\n",
      "LPA learned in 5 iterations\n",
      "LPA learned in 3 iterations\n",
      "LPA learned in 2 iterations\n",
      "LPA learned in 5 iterations\n",
      "LPA learned in 17 iterations\n",
      "LPA learned in 1 iterations\n",
      "LPA learned in 2 iterations\n",
      "LPA learned in 5 iterations\n",
      "LPA learned in 2 iterations\n",
      "LPA learned in 7 iterations\n",
      "LPA learned in 7 iterations\n",
      "LPA learned in 5 iterations\n",
      "LPA learned in 2 iterations\n",
      "LPA learned in 2 iterations\n",
      "LPA learned in 4 iterations\n",
      "LPA learned in 2 iterations\n",
      "LPA learned in 35 iterations\n",
      "LPA learned in 3 iterations\n",
      "LPA learned in 21 iterations\n",
      "LPA learned in 5 iterations\n",
      "LPA learned in 3 iterations\n",
      "LPA learned in 2 iterations\n",
      "LPA learned in 6 iterations\n",
      "LPA learned in 3 iterations\n",
      "LPA learned in 1 iterations\n",
      "LPA learned in 6 iterations\n",
      "LPA learned in 7 iterations\n",
      "LPA learned in 5 iterations\n",
      "LPA learned in 4 iterations\n",
      "LPA learned in 1 iterations\n",
      "LPA learned in 2 iterations\n",
      "LPA learned in 13 iterations\n"
     ]
    },
    {
     "data": {
      "text/plain": [
       "6.6399999999999997"
      ]
     },
     "execution_count": 47,
     "metadata": {},
     "output_type": "execute_result"
    }
   ],
   "source": [
    "LPA_avg_iter()"
   ]
  },
  {
   "cell_type": "code",
   "execution_count": 50,
   "metadata": {
    "collapsed": false
   },
   "outputs": [
    {
     "name": "stdout",
     "output_type": "stream",
     "text": [
      "LPA learned in 188 iterations\n",
      "LPA learned in 18 iterations\n",
      "LPA learned in 42 iterations\n",
      "LPA learned in 254 iterations\n",
      "LPA learned in 18 iterations\n",
      "LPA learned in 68 iterations\n",
      "LPA learned in 156 iterations\n",
      "LPA learned in 11 iterations\n",
      "LPA learned in 221 iterations\n",
      "LPA learned in 26 iterations\n",
      "LPA learned in 103 iterations\n",
      "LPA learned in 398 iterations\n",
      "LPA learned in 44 iterations\n",
      "LPA learned in 89 iterations\n",
      "LPA learned in 43 iterations\n",
      "LPA learned in 3 iterations\n",
      "LPA learned in 21 iterations\n",
      "LPA learned in 25 iterations\n",
      "LPA learned in 24 iterations\n",
      "LPA learned in 885 iterations\n",
      "LPA learned in 10 iterations\n",
      "LPA learned in 19 iterations\n",
      "LPA learned in 250 iterations\n",
      "LPA learned in 169 iterations\n",
      "LPA learned in 260 iterations\n",
      "LPA learned in 1426 iterations\n",
      "LPA learned in 16 iterations\n",
      "LPA learned in 113 iterations\n",
      "LPA learned in 119 iterations\n",
      "LPA learned in 817 iterations\n",
      "LPA learned in 201 iterations\n",
      "LPA learned in 49 iterations\n",
      "LPA learned in 96 iterations\n",
      "LPA learned in 182 iterations\n",
      "LPA learned in 149 iterations\n",
      "LPA learned in 60 iterations\n",
      "LPA learned in 439 iterations\n",
      "LPA learned in 73 iterations\n",
      "LPA learned in 141 iterations\n",
      "LPA learned in 123 iterations\n",
      "LPA learned in 76 iterations\n",
      "LPA learned in 113 iterations\n",
      "LPA learned in 21 iterations\n",
      "LPA learned in 89 iterations\n",
      "LPA learned in 209 iterations\n",
      "LPA learned in 164 iterations\n",
      "LPA learned in 15 iterations\n",
      "LPA learned in 178 iterations\n",
      "LPA learned in 215 iterations\n",
      "LPA learned in 97 iterations\n"
     ]
    },
    {
     "data": {
      "text/plain": [
       "170.52000000000001"
      ]
     },
     "execution_count": 50,
     "metadata": {},
     "output_type": "execute_result"
    }
   ],
   "source": [
    "LPA_avg_iter(100)"
   ]
  },
  {
   "cell_type": "code",
   "execution_count": null,
   "metadata": {
    "collapsed": true
   },
   "outputs": [],
   "source": []
  }
 ],
 "metadata": {
  "kernelspec": {
   "display_name": "Python 2",
   "language": "python",
   "name": "python2"
  },
  "language_info": {
   "codemirror_mode": {
    "name": "ipython",
    "version": 2
   },
   "file_extension": ".py",
   "mimetype": "text/x-python",
   "name": "python",
   "nbconvert_exporter": "python",
   "pygments_lexer": "ipython2",
   "version": "2.7.10"
  }
 },
 "nbformat": 4,
 "nbformat_minor": 0
}
